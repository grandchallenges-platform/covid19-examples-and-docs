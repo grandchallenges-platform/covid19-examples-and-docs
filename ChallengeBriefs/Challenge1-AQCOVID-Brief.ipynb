{
 "cells": [
  {
   "cell_type": "markdown",
   "metadata": {},
   "source": [
    "# Challenge 1: Improvements and inequalities in air quality during COVID-19 pandemic\n",
    "\n",
    "There have been a number of headlines in the UK reporting reductions in air pollution during the lockdown. It has been suggested that NO2 emissions reduced by as much as 50% at the start of lockdown.\n",
    "\n",
    "However, concentrations of other pollutants may not have dropped in quite the same way, and some may have increased. It is also not clear whether the benefits have been experienced by everyone.  \n",
    "\n",
    "Some ideas of things that could be investigated:\n",
    "- What are the improvements (or other) in different pollutants across the UK related to the lockdown? How might these have been linked to meteorological conditions during the period?\n",
    "- Are these improvements the same over the UK? Are the benefits of improved air quality enjoyed by all?\n",
    "- Are similar reductions in air pollution seen in other countries?\n",
    "- Are there are links between air pollution and susceptibility to the virus?\n",
    "- How might we be able to ensure that some of the environmental benefits experienced during the lockdown can continue as we return to ‘normal life’?\n",
    "\n",
    "# Background Reading\n",
    "- [Estimation of changes in air pollution during the COVID-19 outbreak. Mayor of London.](https://www.london.gov.uk/sites/default/files/london_response_to_aqeg_call_for_evidence_april_2020.pdf)\n",
    "- [Gautam, S. COVID-19: air pollution remains low as people stay at home. Air Qual Atmos Health 13, 853–857 (2020). ](https://doi.org/10.1007/s11869-020-00842-6)\n",
    "- [He, G., Pan, Y. & Tanaka, T. The short-term impacts of COVID-19 lockdown on urban air pollution in China. Nat Sustain (2020). ](https://doi.org/10.1038/s41893-020-0581-y)\n",
    "- [Covid-19 impact on ethnic minorities linked to housing and air pollution. The Guardian. ](https://www.theguardian.com/world/2020/jul/19/covid-19-impact-on-ethnic-minorities-linked-to-housing-and-air-pollution)\n",
    "- [Air pollution likely linked to severity of COVID-19. Air Quality News (link to DEFRA report). ](https://airqualitynews.com/2020/07/02/nox-emissions-have-decreased-by-as-much-as-40-report-shows/)"
   ]
  },
  {
   "cell_type": "code",
   "execution_count": null,
   "metadata": {},
   "outputs": [],
   "source": []
  }
 ],
 "metadata": {
  "kernelspec": {
   "display_name": "Python 3",
   "language": "python",
   "name": "python3"
  },
  "language_info": {
   "codemirror_mode": {
    "name": "ipython",
    "version": 3
   },
   "file_extension": ".py",
   "mimetype": "text/x-python",
   "name": "python",
   "nbconvert_exporter": "python",
   "pygments_lexer": "ipython3",
   "version": "3.7.3"
  }
 },
 "nbformat": 4,
 "nbformat_minor": 4
}
