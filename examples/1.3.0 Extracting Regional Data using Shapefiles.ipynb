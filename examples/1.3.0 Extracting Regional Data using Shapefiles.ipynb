{
 "cells": [
  {
   "cell_type": "markdown",
   "metadata": {},
   "source": [
    "# Extracting regional values from Met Office Global meteorological data\n",
    "\n",
    "## Process\n",
    "This notebook runs you through how to extract spatial mean values from gridded data using shapefiles. The process includes:\n",
    "1. Loading the gridded data from NetCDF files into memory using Iris (using [lazy loading](https://scitools.org.uk/iris/docs/latest/userguide/real_and_lazy_data.html)).\n",
    "2. Subset the global data to only include the USA, improving the processing time.\n",
    "3. Load the Shapefile for the regions we want to subset with.\n",
    "4. Define the functions to be used in the pipeline.\n",
    "5. Loop through all the regions in the shapefile; subsetting, collapsing and saving out to a CSV file for each region.\n",
    "6. Load all the region CSVs, collate into one large DataFrame and save out to CSV.\n",
    "\n",
    "## Method\n",
    "This process uses the polygon of a region (from the shapefile) to subset the gridded data by getting the **latitude-longitude bounding box** of the polygon, as described in this diagram:\n",
    "\n",
    "<img src=\"images/coarse_spatial_mean_gridded.png\" alt=\"Lat-Lon bounding box using polygon\" style=\"height: 400px;\"/> \n",
    "\n",
    "Each grid cell (small latitude-longitude box) contains a single value for a meteorological variable. The single value of that variable for the whole region/polygon is the mean of all the grid cell values in the bounding box i.e. lat-lon spatial mean.\n",
    "\n",
    "For example, here we have air temperature values in a bounding box that covers the a polygon. The temperature value for the region is the mean value of the temperatures in the boundind box - 20.9°C.\n",
    "\n",
    "<img src=\"images/spatial_mean_example.png\" alt=\"The mean value for the temperature is 20.9°C\" style=\"height: 400px;\"/> \n",
    "\n",
    "#### Time\n",
    "Of course we have ignored the time axis in this example, which is present in the gridded data but is handled for us by the Iris library as just another dimension. In this notebook we use daily data and will simply store the date for each value in the final tabular data.\n",
    "\n",
    "#### Improvements\n",
    "This process could be more accurate by only using the grid cells which actually overlap with the polygon and by weighting the grid cells according to how much of their area is within the polygon. Improvements like these are coming."
   ]
  },
  {
   "cell_type": "markdown",
   "metadata": {},
   "source": [
    "## Setup"
   ]
  },
  {
   "cell_type": "code",
   "execution_count": 47,
   "metadata": {},
   "outputs": [],
   "source": [
    "#Data\n",
    "import iris\n",
    "import cartopy.io.shapereader as shpreader\n",
    "import pandas as pd\n",
    "import cftime\n",
    "\n",
    "#Plotting\n",
    "import iris.plot as iplt\n",
    "import iris.quickplot as qplt\n",
    "import matplotlib.pyplot as plt\n",
    "%matplotlib inline\n",
    "\n",
    "#System\n",
    "import os\n",
    "import sys\n",
    "import glob\n",
    "import datetime\n",
    "\n",
    "#Met Office utils\n",
    "import shape_utils as shape\n",
    "\n",
    "#Supress warnings\n",
    "import warnings\n",
    "warnings.filterwarnings('ignore')"
   ]
  },
  {
   "cell_type": "markdown",
   "metadata": {},
   "source": [
    "### 1. Load Met Office Global Data"
   ]
  },
  {
   "cell_type": "markdown",
   "metadata": {},
   "source": [
    "The files for each variable are contained in a separate folder."
   ]
  },
  {
   "cell_type": "code",
   "execution_count": 10,
   "metadata": {},
   "outputs": [
    {
     "name": "stdout",
     "output_type": "stream",
     "text": [
      "['cldbase_max', 'cldfrac_max', 'cldfrac_min', 'cldbase_min', 'pmsl_max', 'pmsl_mean', 'cldbase_mean', 'pmsl_min', 'sh_max', 'cldfrac_mean', 'sw_max', 'precip_max', 'sh_min', 'precip_mean', 'sw_mean', 't1o5m_mean', 't1o5m_max', 'windgust_min', 'windspeed_max', 't1o5m_min', 'windgust_max', 'windgust_mean', 'sh_mean', 'windspeed_mean', 'windspeed_min']\n",
      "Number of files for each variable: 213\n"
     ]
    }
   ],
   "source": [
    "#List all the filepaths and store in a dict with each variable as a key\n",
    "folder = '/data/met-office/open-license/metoffice_global_daily/'\n",
    "filepaths = {path: glob.glob(os.path.join(folder, path, '*.nc')) for path in os.listdir(folder)}\n",
    "variables = [v for v in list(filepaths.keys()) if os.path.isdir(os.path.join(folder,v))]\n",
    "\n",
    "print(variables)\n",
    "print(f'Number of files for each variable: {len(filepaths[variables[0]])}')"
   ]
  },
  {
   "cell_type": "code",
   "execution_count": 14,
   "metadata": {},
   "outputs": [],
   "source": [
    "# Let's just have windspeed_max\n",
    "variables = ['windspeed_max']"
   ]
  },
  {
   "cell_type": "code",
   "execution_count": 16,
   "metadata": {},
   "outputs": [
    {
     "name": "stdout",
     "output_type": "stream",
     "text": [
      "0: cloud_base_altitude_assuming_only_consider_cloud_area_fraction_greater_than_2p5_oktas / (kft) (time: 213; latitude: 1920; longitude: 2560)\n",
      "1: specific_humidity / (1)             (time: 213; latitude: 1920; longitude: 2560)\n",
      "2: air_temperature / (K)               (time: 213; latitude: 1920; longitude: 2560)\n",
      "3: wind_speed / (m s-1)                (time: 213; latitude: 1921; longitude: 2560)\n",
      "CPU times: user 1min 3s, sys: 8.36 s, total: 1min 11s\n",
      "Wall time: 1min 39s\n"
     ]
    }
   ],
   "source": [
    "%%time\n",
    "#Run through all the variables and append the loaded cubes to a CubeList\n",
    "cubes = iris.cube.CubeList([])\n",
    "\n",
    "for var in variables:\n",
    "    cubes.extend(iris.load(filepaths[var]))\n",
    "    \n",
    "print(cubes)"
   ]
  },
  {
   "cell_type": "markdown",
   "metadata": {},
   "source": [
    "## 2. Subset global data to the country we want"
   ]
  },
  {
   "cell_type": "code",
   "execution_count": 17,
   "metadata": {},
   "outputs": [
    {
     "name": "stdout",
     "output_type": "stream",
     "text": [
      "0: cloud_base_altitude_assuming_only_consider_cloud_area_fraction_greater_than_2p5_oktas / (kft) (time: 213; latitude: 608; longitude: 811)\n",
      "1: specific_humidity / (1)             (time: 213; latitude: 608; longitude: 811)\n",
      "2: air_temperature / (K)               (time: 213; latitude: 608; longitude: 811)\n",
      "3: wind_speed / (m s-1)                (time: 213; latitude: 609; longitude: 810)\n"
     ]
    }
   ],
   "source": [
    "#Subset the cubes to just the USA\n",
    "us_latlon = ((18, 75), (-179, -65))\n",
    "us_cubes = iris.cube.CubeList([cube.intersection(latitude=us_latlon[0], longitude=us_latlon[1]) for cube in cubes])\n",
    "print(us_cubes)"
   ]
  },
  {
   "cell_type": "code",
   "execution_count": 18,
   "metadata": {},
   "outputs": [
    {
     "data": {
      "text/plain": [
       "<cartopy.mpl.feature_artist.FeatureArtist at 0x7f351ee72c70>"
      ]
     },
     "execution_count": 18,
     "metadata": {},
     "output_type": "execute_result"
    },
    {
     "data": {
      "image/png": "[encoded data removed]",
      "text/plain": [
       "<Figure size 432x288 with 2 Axes>"
      ]
     },
     "metadata": {
      "needs_background": "light"
     },
     "output_type": "display_data"
    }
   ],
   "source": [
    "#Plot the subset to check that we have the right area\n",
    "qplt.contourf(us_cubes[0][0])\n",
    "plt.gca().coastlines()"
   ]
  },
  {
   "cell_type": "code",
   "execution_count": 19,
   "metadata": {},
   "outputs": [
    {
     "data": {
      "text/plain": [
       "GeogCS(6371229.0)"
      ]
     },
     "execution_count": 19,
     "metadata": {},
     "output_type": "execute_result"
    }
   ],
   "source": [
    "#Extract the coordinate reference system from one of the cubes. We will use this later.\n",
    "CRS = us_cubes[0].coord_system()\n",
    "CRS"
   ]
  },
  {
   "cell_type": "markdown",
   "metadata": {},
   "source": [
    "### 3. Load shapefile containing region polygons"
   ]
  },
  {
   "cell_type": "code",
   "execution_count": 22,
   "metadata": {},
   "outputs": [],
   "source": [
    "#Load the shapefile\n",
    "shapefile = '/data/met-office/open-license/shapefiles/USA/US_COUNTY_POP.shx'\n",
    "regions_reader = shpreader.Reader(shapefile)"
   ]
  },
  {
   "cell_type": "code",
   "execution_count": 23,
   "metadata": {},
   "outputs": [
    {
     "data": {
      "text/plain": [
       "3142"
      ]
     },
     "execution_count": 23,
     "metadata": {},
     "output_type": "execute_result"
    }
   ],
   "source": [
    "#How many regions are included?\n",
    "len([record for record in regions_reader.records()])"
   ]
  },
  {
   "cell_type": "code",
   "execution_count": 24,
   "metadata": {},
   "outputs": [
    {
     "data": {
      "text/plain": [
       "<Record: <shapely.geometry.polygon.Polygon object at 0x7f351ebff610>, {'OBJECTID': 1, 'NAME': 'Autauga', 'STATE_NAME': 'Alabama', 'STATE_FIPS': '01', 'CNTY_FIPS': '001', 'FIPS': '01001', 'POPULATION': 56903, 'POP_SQMI': 94.2, 'POP2010': 54571, 'POP10_SQMI': 90.3, 'WHITE': 42855, 'BLACK': 9643, 'AMERI_ES': 232, 'ASIAN': 474, 'HAWN_PI': 32, 'HISPANIC': 1310, 'OTHER': 466, 'MULT_RACE': 869, 'MALES': 26569, 'FEMALES': 28002, 'AGE_UNDER5': 3579, 'AGE_5_9': 3991, 'AGE_10_14': 4290, 'AGE_15_19': 4290, 'AGE_20_24': 3080, 'AGE_25_34': 6487, 'AGE_35_44': 8243, 'AGE_45_54': 8205, 'AGE_55_64': 5860, 'AGE_65_74': 4013, 'AGE_75_84': 1982, 'AGE_85_UP': 551, 'MED_AGE': 36.9, 'MED_AGE_M': 35.9, 'MED_AGE_F': 37.8, 'HOUSEHOLDS': 20221, 'AVE_HH_SZ': 2.68, 'HSEHLD_1_M': 2012, 'HSEHLD_1_F': 2429, 'MARHH_CHD': 5522, 'MARHH_NO_C': 5845, 'MHH_CHILD': 558, 'FHH_CHILD': 1821, 'FAMILIES': 15064, 'AVE_FAM_SZ': 3.13, 'HSE_UNITS': 22135, 'VACANT': 1914, 'OWNER_OCC': 15248, 'RENTER_OCC': 4973, 'NO_FARMS17': 371.0, 'AVE_SIZE17': 305.0, 'CROP_ACR17': 36890.0, 'AVE_SALE17': 57844.0, 'SQMI': 604.13, 'Shape_Leng': 1.88413711397, 'Shape_Area': 0.148903424615, 'X': -86.6413, 'Y': 32.5394259133}, <fields>>"
      ]
     },
     "execution_count": 24,
     "metadata": {},
     "output_type": "execute_result"
    }
   ],
   "source": [
    "#Let's take a look at one\n",
    "next(regions_reader.records())"
   ]
  },
  {
   "cell_type": "code",
   "execution_count": 25,
   "metadata": {},
   "outputs": [
    {
     "data": {
      "image/svg+xml": [
       "<svg xmlns=\"http://www.w3.org/2000/svg\" xmlns:xlink=\"http://www.w3.org/1999/xlink\" width=\"100.0\" height=\"100.0\" viewBox=\"-86.93263434401608 32.30279853092249 0.5468565843507633 0.42761824242919033\" preserveAspectRatio=\"xMinYMin meet\"><g transform=\"matrix(1,0,0,-1,0,65.03321530427417)\"><path fill-rule=\"evenodd\" fill=\"#66cc99\" stroke=\"#555555\" stroke-width=\"0.010937131687015267\" opacity=\"0.6\" d=\"M -86.82066989223495,32.3473096163641 L -86.81445962398351,32.37041090250841 L -86.8457108770292,32.41034611849443 L -86.8314208881539,32.43143709708312 L -86.86392320875291,32.45088018917659 L -86.86461759009796,32.462747406734024 L -86.88191418181589,32.48229348525774 L -86.88183808168185,32.50097371106591 L -86.90671080695591,32.53891379807965 L -86.90197312033041,32.58391850556393 L -86.91238039644753,32.66571511533118 L -86.7113401089427,32.66460112126657 L -86.71137098415022,32.71016282578313 L -86.41370948031545,32.708854100334065 L -86.40603170723386,32.416053421326524 L -86.4259829969543,32.4056547964841 L -86.45401431812297,32.41143001441213 L -86.46377228240937,32.38342697824919 L -86.48581412414262,32.37489749495478 L -86.49813571493019,32.35060989630642 L -86.53577259290108,32.34567369660164 L -86.53770301862784,32.36669598303416 L -86.56974759873395,32.38120287542267 L -86.5854720932661,32.367023902604046 L -86.61225970305514,32.37682740264103 L -86.61709721606479,32.40840471031123 L -86.6473714967301,32.412360311352984 L -86.65808322518723,32.38619212246397 L -86.69205771297982,32.36196927886493 L -86.72226340509695,32.367729318209456 L -86.72522410956066,32.40745840592223 L -86.75066108443264,32.39440482405706 L -86.78135508142577,32.40198437667976 L -86.79096809800978,32.37486247542404 L -86.77421332474063,32.35668588848762 L -86.77867639815287,32.337189386429486 L -86.79923047967668,32.32309438795892 L -86.81659540092272,32.323052478491036 L -86.82066989223495,32.3473096163641 z\" /></g></svg>"
      ],
      "text/plain": [
       "<shapely.geometry.polygon.Polygon at 0x7f351ebff610>"
      ]
     },
     "execution_count": 25,
     "metadata": {},
     "output_type": "execute_result"
    }
   ],
   "source": [
    "next(regions_reader.geometries())"
   ]
  },
  {
   "cell_type": "code",
   "execution_count": 26,
   "metadata": {},
   "outputs": [],
   "source": [
    "#We will use a list of the region IDs to loop through later\n",
    "region_ids = [record.attributes['OBJECTID'] for record in regions_reader.records()]"
   ]
  },
  {
   "cell_type": "code",
   "execution_count": 27,
   "metadata": {},
   "outputs": [
    {
     "name": "stdout",
     "output_type": "stream",
     "text": [
      "1 3142\n"
     ]
    }
   ],
   "source": [
    "print(region_ids[0], region_ids[-1])"
   ]
  },
  {
   "cell_type": "code",
   "execution_count": 28,
   "metadata": {},
   "outputs": [],
   "source": [
    "#Helper function to get the record from the reader\n",
    "def get_region_record(target, shapefile=regions_reader, attribute='OBJECTID'):\n",
    "    '''\n",
    "    Get the geometries for the specified target.\n",
    "    \n",
    "    '''\n",
    "    result = None\n",
    "    for record in shapefile.records():\n",
    "        location = record.attributes[attribute]\n",
    "        if location == target:\n",
    "            result = record\n",
    "            break\n",
    "    if result is None:\n",
    "        emsg = f'Could not find region with {attribute} \"{target}\".'\n",
    "        raise ValueError(emsg)\n",
    "    return result"
   ]
  },
  {
   "cell_type": "code",
   "execution_count": 29,
   "metadata": {},
   "outputs": [],
   "source": [
    "#Create a random ID generator\n",
    "from random import randint\n",
    "def rand_id(ids=region_ids): \n",
    "    return randint(ids[0], ids[-1])"
   ]
  },
  {
   "cell_type": "code",
   "execution_count": 38,
   "metadata": {},
   "outputs": [
    {
     "data": {
      "image/svg+xml": [
       "<svg xmlns=\"http://www.w3.org/2000/svg\" xmlns:xlink=\"http://www.w3.org/1999/xlink\" width=\"100.0\" height=\"100.0\" viewBox=\"-111.85948327459286 44.40467772792764 1.1378815414117298 1.853428152029423\" preserveAspectRatio=\"xMinYMin meet\"><g transform=\"matrix(1,0,0,-1,0,90.6627836078847)\"><path fill-rule=\"evenodd\" fill=\"#66cc99\" stroke=\"#555555\" stroke-width=\"0.037068563040588455\" opacity=\"0.6\" d=\"M -111.3723094817438,44.745086998875706 L -111.36917772034178,45.34974768465935 L -111.350278777879,45.34940821278866 L -111.34975379574297,45.63458737790148 L -111.53013629003703,45.6352013075732 L -111.52999149774678,45.65126118145679 L -111.55352161772998,45.65132598831019 L -111.55432281900431,45.664124279868986 L -111.57451111220547,45.663452899517495 L -111.57377881030351,45.680008693470995 L -111.5986745883751,45.68044742188124 L -111.59859838463302,45.69696881795272 L -111.6182984247622,45.69769360826888 L -111.61900808829881,45.709584085839936 L -111.6380137988869,45.709885378133436 L -111.63823520935165,45.723179693370184 L -111.65388381096597,45.72275241365264 L -111.65496739605953,45.737835781392505 L -111.71515079071611,45.73762597503253 L -111.71640988789551,45.771054085620904 L -111.78989158669981,45.777859219657614 L -111.79083778748065,45.79708141932662 L -111.76334051415506,45.80278841133463 L -111.731036188595,45.79546430443054 L -111.703866679427,45.79838247777781 L -111.65973632052089,45.84173650134841 L -111.62457852485886,45.85519850626099 L -111.60449710339122,45.88019240118325 L -111.56390682532611,45.89806811025852 L -111.55083708060062,45.91578348583141 L -111.52694080966648,45.92491591634138 L -111.50250272028353,45.92351979747764 L -111.46804692116041,45.967190395533464 L -111.46584198582849,45.988430621559985 L -111.42603767865035,45.996582608818755 L -111.41281521561638,46.078110977269716 L -111.38941481294802,46.09821462267041 L -111.34491032526887,46.11807800093595 L -111.34611570165924,46.18230661762249 L -111.06369877973503,46.189460392844865 L -110.79024722029334,46.187774119556025 L -110.79051572062997,46.13267378905613 L -110.79766478168466,46.131853575699154 L -110.7955649049448,45.77821801443497 L -110.80738321948894,45.77854598580876 L -110.80455181790785,45.58475318703353 L -110.85806611593534,45.584798204744004 L -110.85756211443532,45.51652700803328 L -110.91620351005315,45.51628959012061 L -110.91825567527269,45.347562693882594 L -111.04051331202646,45.34763687726718 L -111.03863577822398,45.17550241492114 L -111.05143842132202,45.17391539817203 L -111.05342857710639,44.995695515309535 L -111.05161579835328,44.664490481486666 L -111.05156057524721,44.47332321503984 L -111.0946306090733,44.486124407624914 L -111.12891861491278,44.50075697661322 L -111.13435891972557,44.52790239690279 L -111.17024192013622,44.54518608941481 L -111.17876451349349,44.564850902797104 L -111.21950750986679,44.57316990627925 L -111.23423322251801,44.6025622231727 L -111.21979781970396,44.61798169552054 L -111.22397141214378,44.626908101365416 L -111.27066550115916,44.64221210250912 L -111.27020791607845,44.67380199856086 L -111.29566840998433,44.68293800354945 L -111.31547542545496,44.70519301890516 L -111.31922168637317,44.727864020697666 L -111.3499771747612,44.726177591996986 L -111.3723094817438,44.745086998875706 z\" /></g></svg>"
      ],
      "text/plain": [
       "<shapely.geometry.polygon.Polygon at 0x7f351d21bb50>"
      ]
     },
     "execution_count": 38,
     "metadata": {},
     "output_type": "execute_result"
    }
   ],
   "source": [
    "#Get a random geometry to check it's all working as expected\n",
    "get_region_record(rand_id(), regions_reader).geometry"
   ]
  },
  {
   "cell_type": "markdown",
   "metadata": {},
   "source": [
    "## 4. Define the functions to be used in the pipeline."
   ]
  },
  {
   "cell_type": "code",
   "execution_count": 45,
   "metadata": {},
   "outputs": [],
   "source": [
    "def parse_data_name(cube):\n",
    "    name = cube.name()\n",
    "    method = cube.cell_methods[0].method.replace('imum', '')\n",
    "    units = cube.units\n",
    "    \n",
    "    if name == 'm01s01i202':\n",
    "        name = 'short_wave_radiation'\n",
    "        units = 'W/m2'\n",
    "    \n",
    "    return f'{name}_{method} ({units})'\n",
    "\n",
    "def get_date(dt):\n",
    "    if isinstance(dt, cftime.real_datetime):\n",
    "        date = dt.date()\n",
    "    else:\n",
    "        date = datetime.datetime(dt.year, dt.month, dt.day).date()\n",
    "\n",
    "    return date"
   ]
  },
  {
   "cell_type": "code",
   "execution_count": 40,
   "metadata": {},
   "outputs": [],
   "source": [
    "def extract(location, cubes=us_cubes, **kwargs):\n",
    "    region = get_region_record(location, **kwargs)\n",
    "    cutter = shape.Shape(region.geometry, region.attributes, coord_system=CRS)\n",
    "    cut_cubes = cutter.extract_subcubes(cubes)\n",
    "#     cubes_col = [cube.collapsed(['latitude','longitude'], iris.analysis.MEAN) for cube in cut_cubes]\n",
    "    return cut_cubes"
   ]
  },
  {
   "cell_type": "code",
   "execution_count": 41,
   "metadata": {},
   "outputs": [],
   "source": [
    "def extract_collapse_df(location, cubes=us_cubes, **kwargs):\n",
    "    region = get_region_record(location, **kwargs)\n",
    "    cutter = shape.Shape(region.geometry, region.attributes, coord_system=CRS)\n",
    "    cut_cubes = cutter.extract_subcubes(cubes)\n",
    "    cubes_col = [cube.collapsed(['latitude','longitude'], iris.analysis.MEAN) for cube in cut_cubes]\n",
    "    time = cubes_col[0].coord('time')\n",
    "    length = len(time.points)\n",
    "    data = {'objectid': [location]*length,\n",
    "            'fips': [region.attributes['FIPS']]*length,\n",
    "            'county_name': [region.attributes['NAME']]*length,\n",
    "            'state_name': [region.attributes['STATE_NAME']]*length,\n",
    "            'date': [get_date(cell.point) for cell in time.cells()]}\n",
    "    data.update({parse_data_name(cube): cube.data for cube in cubes_col})\n",
    "    \n",
    "    df = pd.DataFrame(data, columns=COL_ORDER)\n",
    "\n",
    "    return df"
   ]
  },
  {
   "cell_type": "code",
   "execution_count": 43,
   "metadata": {},
   "outputs": [
    {
     "name": "stdout",
     "output_type": "stream",
     "text": [
      "3097\n",
      "0: cloud_base_altitude_assuming_only_consider_cloud_area_fraction_greater_than_2p5_oktas / (kft) (time: 213; latitude: 6; longitude: 5)\n",
      "1: specific_humidity / (1)             (time: 213; latitude: 6; longitude: 5)\n",
      "2: air_temperature / (K)               (time: 213; latitude: 6; longitude: 5)\n",
      "3: wind_speed / (m s-1)                (time: 213; latitude: 6; longitude: 6)\n"
     ]
    },
    {
     "data": {
      "image/svg+xml": [
       "<svg xmlns=\"http://www.w3.org/2000/svg\" xmlns:xlink=\"http://www.w3.org/1999/xlink\" width=\"100.0\" height=\"100.0\" viewBox=\"-89.8634204228795 44.2198052594197 0.672743253625697 0.48717108246177077\" preserveAspectRatio=\"xMinYMin meet\"><g transform=\"matrix(1,0,0,-1,0,88.92678160130117)\"><path fill-rule=\"evenodd\" fill=\"#66cc99\" stroke=\"#555555\" stroke-width=\"0.01345486507251394\" opacity=\"0.6\" d=\"M -89.59390128735225,44.24472167622065 L -89.72213768010522,44.247759724115326 L -89.72490650240678,44.50669501463716 L -89.83571902091677,44.5096527144666 L -89.83850400607855,44.68205992508052 L -89.21632241708602,44.680825383015815 L -89.21559358605475,44.24491138261311 L -89.59390128735225,44.24472167622065 z\" /></g></svg>"
      ],
      "text/plain": [
       "<shapely.geometry.polygon.Polygon at 0x7f351f421a30>"
      ]
     },
     "metadata": {},
     "output_type": "display_data"
    }
   ],
   "source": [
    "id_ = rand_id()\n",
    "print(id_)\n",
    "print(extract(id_, us_cubes, attribute='OBJECTID'))\n",
    "display(get_region_record(id_, regions_reader, 'OBJECTID').geometry)"
   ]
  },
  {
   "cell_type": "markdown",
   "metadata": {},
   "source": [
    "## 5. Build a data frame"
   ]
  },
  {
   "cell_type": "code",
   "execution_count": 51,
   "metadata": {},
   "outputs": [
    {
     "data": {
      "text/plain": [
       "('objectid',\n",
       " 'fips',\n",
       " 'county_name',\n",
       " 'state_name',\n",
       " 'date',\n",
       " 'air_temperature_max (K)',\n",
       " 'cloud_base_altitude_assuming_only_consider_cloud_area_fraction_greater_than_2p5_oktas_max (kft)',\n",
       " 'specific_humidity_max (1)',\n",
       " 'wind_speed_min (m s-1)')"
      ]
     },
     "execution_count": 51,
     "metadata": {},
     "output_type": "execute_result"
    }
   ],
   "source": [
    "#Set the order of the columns in the dataframes we will create\n",
    "col0 = ['objectid', 'fips', 'county_name', 'state_name', 'date']\n",
    "col1 = [parse_data_name(cube) for cube in us_cubes]\n",
    "COL_ORDER = tuple(col0 + sorted([c for c in col1 if c not in col0]))\n",
    "COL_ORDER"
   ]
  },
  {
   "cell_type": "code",
   "execution_count": 52,
   "metadata": {},
   "outputs": [
    {
     "name": "stdout",
     "output_type": "stream",
     "text": [
      "0: cloud_base_altitude_assuming_only_consider_cloud_area_fraction_greater_than_2p5_oktas / (kft) (time: 213; latitude: 608; longitude: 811)\n",
      "1: specific_humidity / (1)             (time: 213; latitude: 608; longitude: 811)\n",
      "2: air_temperature / (K)               (time: 213; latitude: 608; longitude: 811)\n",
      "3: wind_speed / (m s-1)                (time: 213; latitude: 609; longitude: 810)\n"
     ]
    }
   ],
   "source": [
    "#Let's look at the cubes we are going to \n",
    "print(us_cubes)"
   ]
  },
  {
   "cell_type": "code",
   "execution_count": 54,
   "metadata": {},
   "outputs": [],
   "source": []
  },
  {
   "cell_type": "code",
   "execution_count": 58,
   "metadata": {},
   "outputs": [
    {
     "name": "stdout",
     "output_type": "stream",
     "text": [
      "CPU times: user 10.6 s, sys: 27.6 s, total: 38.2 s\n",
      "Wall time: 1min 2s\n"
     ]
    },
    {
     "data": {
      "text/html": [
       "<div>\n",
       "<style scoped>\n",
       "    .dataframe tbody tr th:only-of-type {\n",
       "        vertical-align: middle;\n",
       "    }\n",
       "\n",
       "    .dataframe tbody tr th {\n",
       "        vertical-align: top;\n",
       "    }\n",
       "\n",
       "    .dataframe thead th {\n",
       "        text-align: right;\n",
       "    }\n",
       "</style>\n",
       "<table border=\"1\" class=\"dataframe\">\n",
       "  <thead>\n",
       "    <tr style=\"text-align: right;\">\n",
       "      <th></th>\n",
       "      <th>objectid</th>\n",
       "      <th>fips</th>\n",
       "      <th>county_name</th>\n",
       "      <th>state_name</th>\n",
       "      <th>date</th>\n",
       "      <th>air_temperature_max (K)</th>\n",
       "      <th>cloud_base_altitude_assuming_only_consider_cloud_area_fraction_greater_than_2p5_oktas_max (kft)</th>\n",
       "      <th>specific_humidity_max (1)</th>\n",
       "      <th>wind_speed_min (m s-1)</th>\n",
       "    </tr>\n",
       "  </thead>\n",
       "  <tbody>\n",
       "    <tr>\n",
       "      <th>0</th>\n",
       "      <td>3097</td>\n",
       "      <td>55097</td>\n",
       "      <td>Portage</td>\n",
       "      <td>Wisconsin</td>\n",
       "      <td>2020-01-01</td>\n",
       "      <td>273.408844</td>\n",
       "      <td>22.324413</td>\n",
       "      <td>0.003597</td>\n",
       "      <td>2.677083</td>\n",
       "    </tr>\n",
       "    <tr>\n",
       "      <th>1</th>\n",
       "      <td>3097</td>\n",
       "      <td>55097</td>\n",
       "      <td>Portage</td>\n",
       "      <td>Wisconsin</td>\n",
       "      <td>2020-01-02</td>\n",
       "      <td>274.037506</td>\n",
       "      <td>24.845182</td>\n",
       "      <td>0.003906</td>\n",
       "      <td>3.548611</td>\n",
       "    </tr>\n",
       "    <tr>\n",
       "      <th>2</th>\n",
       "      <td>3097</td>\n",
       "      <td>55097</td>\n",
       "      <td>Portage</td>\n",
       "      <td>Wisconsin</td>\n",
       "      <td>2020-01-03</td>\n",
       "      <td>273.587494</td>\n",
       "      <td>5.350586</td>\n",
       "      <td>0.003800</td>\n",
       "      <td>1.517361</td>\n",
       "    </tr>\n",
       "    <tr>\n",
       "      <th>3</th>\n",
       "      <td>3097</td>\n",
       "      <td>55097</td>\n",
       "      <td>Portage</td>\n",
       "      <td>Wisconsin</td>\n",
       "      <td>2020-01-04</td>\n",
       "      <td>270.864075</td>\n",
       "      <td>3.644596</td>\n",
       "      <td>0.002954</td>\n",
       "      <td>1.409722</td>\n",
       "    </tr>\n",
       "    <tr>\n",
       "      <th>4</th>\n",
       "      <td>3097</td>\n",
       "      <td>55097</td>\n",
       "      <td>Portage</td>\n",
       "      <td>Wisconsin</td>\n",
       "      <td>2020-01-05</td>\n",
       "      <td>273.501556</td>\n",
       "      <td>19.104948</td>\n",
       "      <td>0.003687</td>\n",
       "      <td>1.892361</td>\n",
       "    </tr>\n",
       "    <tr>\n",
       "      <th>...</th>\n",
       "      <td>...</td>\n",
       "      <td>...</td>\n",
       "      <td>...</td>\n",
       "      <td>...</td>\n",
       "      <td>...</td>\n",
       "      <td>...</td>\n",
       "      <td>...</td>\n",
       "      <td>...</td>\n",
       "      <td>...</td>\n",
       "    </tr>\n",
       "    <tr>\n",
       "      <th>208</th>\n",
       "      <td>3097</td>\n",
       "      <td>55097</td>\n",
       "      <td>Portage</td>\n",
       "      <td>Wisconsin</td>\n",
       "      <td>2020-07-27</td>\n",
       "      <td>299.456238</td>\n",
       "      <td>39.169239</td>\n",
       "      <td>0.017611</td>\n",
       "      <td>2.437500</td>\n",
       "    </tr>\n",
       "    <tr>\n",
       "      <th>209</th>\n",
       "      <td>3097</td>\n",
       "      <td>55097</td>\n",
       "      <td>Portage</td>\n",
       "      <td>Wisconsin</td>\n",
       "      <td>2020-07-28</td>\n",
       "      <td>299.382294</td>\n",
       "      <td>9.572526</td>\n",
       "      <td>0.014242</td>\n",
       "      <td>2.659722</td>\n",
       "    </tr>\n",
       "    <tr>\n",
       "      <th>210</th>\n",
       "      <td>3097</td>\n",
       "      <td>55097</td>\n",
       "      <td>Portage</td>\n",
       "      <td>Wisconsin</td>\n",
       "      <td>2020-07-29</td>\n",
       "      <td>299.271362</td>\n",
       "      <td>34.117870</td>\n",
       "      <td>0.015104</td>\n",
       "      <td>1.142361</td>\n",
       "    </tr>\n",
       "    <tr>\n",
       "      <th>211</th>\n",
       "      <td>3097</td>\n",
       "      <td>55097</td>\n",
       "      <td>Portage</td>\n",
       "      <td>Wisconsin</td>\n",
       "      <td>2020-07-30</td>\n",
       "      <td>297.724487</td>\n",
       "      <td>37.481739</td>\n",
       "      <td>0.015112</td>\n",
       "      <td>1.465278</td>\n",
       "    </tr>\n",
       "    <tr>\n",
       "      <th>212</th>\n",
       "      <td>3097</td>\n",
       "      <td>55097</td>\n",
       "      <td>Portage</td>\n",
       "      <td>Wisconsin</td>\n",
       "      <td>2020-07-31</td>\n",
       "      <td>297.313019</td>\n",
       "      <td>36.895508</td>\n",
       "      <td>0.012769</td>\n",
       "      <td>0.864583</td>\n",
       "    </tr>\n",
       "  </tbody>\n",
       "</table>\n",
       "<p>213 rows × 9 columns</p>\n",
       "</div>"
      ],
      "text/plain": [
       "     objectid   fips county_name state_name        date  \\\n",
       "0        3097  55097     Portage  Wisconsin  2020-01-01   \n",
       "1        3097  55097     Portage  Wisconsin  2020-01-02   \n",
       "2        3097  55097     Portage  Wisconsin  2020-01-03   \n",
       "3        3097  55097     Portage  Wisconsin  2020-01-04   \n",
       "4        3097  55097     Portage  Wisconsin  2020-01-05   \n",
       "..        ...    ...         ...        ...         ...   \n",
       "208      3097  55097     Portage  Wisconsin  2020-07-27   \n",
       "209      3097  55097     Portage  Wisconsin  2020-07-28   \n",
       "210      3097  55097     Portage  Wisconsin  2020-07-29   \n",
       "211      3097  55097     Portage  Wisconsin  2020-07-30   \n",
       "212      3097  55097     Portage  Wisconsin  2020-07-31   \n",
       "\n",
       "     air_temperature_max (K)  \\\n",
       "0                 273.408844   \n",
       "1                 274.037506   \n",
       "2                 273.587494   \n",
       "3                 270.864075   \n",
       "4                 273.501556   \n",
       "..                       ...   \n",
       "208               299.456238   \n",
       "209               299.382294   \n",
       "210               299.271362   \n",
       "211               297.724487   \n",
       "212               297.313019   \n",
       "\n",
       "     cloud_base_altitude_assuming_only_consider_cloud_area_fraction_greater_than_2p5_oktas_max (kft)  \\\n",
       "0                                            22.324413                                                 \n",
       "1                                            24.845182                                                 \n",
       "2                                             5.350586                                                 \n",
       "3                                             3.644596                                                 \n",
       "4                                            19.104948                                                 \n",
       "..                                                 ...                                                 \n",
       "208                                          39.169239                                                 \n",
       "209                                           9.572526                                                 \n",
       "210                                          34.117870                                                 \n",
       "211                                          37.481739                                                 \n",
       "212                                          36.895508                                                 \n",
       "\n",
       "     specific_humidity_max (1)  wind_speed_min (m s-1)  \n",
       "0                     0.003597                2.677083  \n",
       "1                     0.003906                3.548611  \n",
       "2                     0.003800                1.517361  \n",
       "3                     0.002954                1.409722  \n",
       "4                     0.003687                1.892361  \n",
       "..                         ...                     ...  \n",
       "208                   0.017611                2.437500  \n",
       "209                   0.014242                2.659722  \n",
       "210                   0.015104                1.142361  \n",
       "211                   0.015112                1.465278  \n",
       "212                   0.012769                0.864583  \n",
       "\n",
       "[213 rows x 9 columns]"
      ]
     },
     "execution_count": 58,
     "metadata": {},
     "output_type": "execute_result"
    }
   ],
   "source": [
    "%%time\n",
    "#  Create a dataframe for a given id\n",
    "df_ex = extract_collapse_df(id_)\n",
    "df_ex"
   ]
  },
  {
   "cell_type": "code",
   "execution_count": 59,
   "metadata": {},
   "outputs": [],
   "source": [
    "## 6. Loop over this and write to CSVs"
   ]
  },
  {
   "cell_type": "code",
   "execution_count": 72,
   "metadata": {},
   "outputs": [],
   "source": [
    "#For now let's assume we haven't written any files, so we will loop through all the region IDs\n",
    "unwritten = region_ids\n",
    "start =0\n",
    "stop = len(unwritten)\n",
    "out_dir = '/home/jovyan/shape-data-out/'\n",
    "os.makedirs(out_dir, exist_ok=True)"
   ]
  },
  {
   "cell_type": "code",
   "execution_count": null,
   "metadata": {},
   "outputs": [],
   "source": [
    "%%time\n",
    "#This will loop through all the region IDs, executing extract_collapse_df for each region and saving it to a CSV file\n",
    "#Any errors will be caught and printed, but the loop will continue onto the next ID\n",
    "# Will write to `out_dir`\n",
    "\n",
    "for location in unwritten[start:]:\n",
    "    try:\n",
    "        df = extract_collapse_df(location)\n",
    "        fname = df['fips'][0]\n",
    "        county = df['county_name'][0]\n",
    "        state = df['state_name'][0]\n",
    "        df.to_csv(f'{out_dir}/us_{fname}_daily_data.csv', index=False)\n",
    "        print(f'  [{location}] {fname}, {county}, {state}: Success')\n",
    "    except Exception as e:\n",
    "        print(f'x [{location}] {fname}, {county}, {state}: Error \\n  x  {e}')"
   ]
  }
 ],
 "metadata": {
  "kernelspec": {
   "display_name": "Python 3",
   "language": "python",
   "name": "python3"
  },
  "language_info": {
   "codemirror_mode": {
    "name": "ipython",
    "version": 3
   },
   "file_extension": ".py",
   "mimetype": "text/x-python",
   "name": "python",
   "nbconvert_exporter": "python",
   "pygments_lexer": "ipython3",
   "version": "3.8.5"
  }
 },
 "nbformat": 4,
 "nbformat_minor": 4
}
